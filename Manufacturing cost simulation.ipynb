{
 "cells": [
  {
   "cell_type": "code",
   "execution_count": 19,
   "id": "fdadadb6",
   "metadata": {},
   "outputs": [],
   "source": [
    "#Importando as bibliotecas necessárias para o projeto\n",
    "import pandas as pd \n",
    "import matplotlib.pyplot as plt\n",
    "import seaborn as sns\n",
    "from sklearn import linear_model"
   ]
  },
  {
   "cell_type": "code",
   "execution_count": 3,
   "id": "5419edf4",
   "metadata": {},
   "outputs": [
    {
     "data": {
      "text/html": [
       "<div>\n",
       "<style scoped>\n",
       "    .dataframe tbody tr th:only-of-type {\n",
       "        vertical-align: middle;\n",
       "    }\n",
       "\n",
       "    .dataframe tbody tr th {\n",
       "        vertical-align: top;\n",
       "    }\n",
       "\n",
       "    .dataframe thead th {\n",
       "        text-align: right;\n",
       "    }\n",
       "</style>\n",
       "<table border=\"1\" class=\"dataframe\">\n",
       "  <thead>\n",
       "    <tr style=\"text-align: right;\">\n",
       "      <th></th>\n",
       "      <th>Number of Units</th>\n",
       "      <th>Manufacturing Cost</th>\n",
       "    </tr>\n",
       "  </thead>\n",
       "  <tbody>\n",
       "    <tr>\n",
       "      <th>0</th>\n",
       "      <td>1.000000</td>\n",
       "      <td>95.066056</td>\n",
       "    </tr>\n",
       "    <tr>\n",
       "      <th>1</th>\n",
       "      <td>1.185994</td>\n",
       "      <td>96.531750</td>\n",
       "    </tr>\n",
       "    <tr>\n",
       "      <th>2</th>\n",
       "      <td>1.191499</td>\n",
       "      <td>73.661311</td>\n",
       "    </tr>\n",
       "    <tr>\n",
       "      <th>3</th>\n",
       "      <td>1.204771</td>\n",
       "      <td>95.566843</td>\n",
       "    </tr>\n",
       "    <tr>\n",
       "      <th>4</th>\n",
       "      <td>1.298773</td>\n",
       "      <td>98.777013</td>\n",
       "    </tr>\n",
       "  </tbody>\n",
       "</table>\n",
       "</div>"
      ],
      "text/plain": [
       "   Number of Units  Manufacturing Cost\n",
       "0         1.000000           95.066056\n",
       "1         1.185994           96.531750\n",
       "2         1.191499           73.661311\n",
       "3         1.204771           95.566843\n",
       "4         1.298773           98.777013"
      ]
     },
     "execution_count": 3,
     "metadata": {},
     "output_type": "execute_result"
    }
   ],
   "source": [
    "#Importar a base de dados\n",
    "df = pd.read_csv('EconomiesOfScale.csv')\n",
    "df.head(5)"
   ]
  },
  {
   "cell_type": "code",
   "execution_count": 4,
   "id": "cb449bba",
   "metadata": {},
   "outputs": [
    {
     "data": {
      "text/html": [
       "<div>\n",
       "<style scoped>\n",
       "    .dataframe tbody tr th:only-of-type {\n",
       "        vertical-align: middle;\n",
       "    }\n",
       "\n",
       "    .dataframe tbody tr th {\n",
       "        vertical-align: top;\n",
       "    }\n",
       "\n",
       "    .dataframe thead th {\n",
       "        text-align: right;\n",
       "    }\n",
       "</style>\n",
       "<table border=\"1\" class=\"dataframe\">\n",
       "  <thead>\n",
       "    <tr style=\"text-align: right;\">\n",
       "      <th></th>\n",
       "      <th>Number of Units</th>\n",
       "      <th>Manufacturing Cost</th>\n",
       "    </tr>\n",
       "  </thead>\n",
       "  <tbody>\n",
       "    <tr>\n",
       "      <th>count</th>\n",
       "      <td>1000.000000</td>\n",
       "      <td>1000.000000</td>\n",
       "    </tr>\n",
       "    <tr>\n",
       "      <th>mean</th>\n",
       "      <td>4.472799</td>\n",
       "      <td>40.052999</td>\n",
       "    </tr>\n",
       "    <tr>\n",
       "      <th>std</th>\n",
       "      <td>1.336241</td>\n",
       "      <td>10.595322</td>\n",
       "    </tr>\n",
       "    <tr>\n",
       "      <th>min</th>\n",
       "      <td>1.000000</td>\n",
       "      <td>20.000000</td>\n",
       "    </tr>\n",
       "    <tr>\n",
       "      <th>25%</th>\n",
       "      <td>3.594214</td>\n",
       "      <td>32.912036</td>\n",
       "    </tr>\n",
       "    <tr>\n",
       "      <th>50%</th>\n",
       "      <td>4.435958</td>\n",
       "      <td>38.345781</td>\n",
       "    </tr>\n",
       "    <tr>\n",
       "      <th>75%</th>\n",
       "      <td>5.324780</td>\n",
       "      <td>44.531822</td>\n",
       "    </tr>\n",
       "    <tr>\n",
       "      <th>max</th>\n",
       "      <td>10.000000</td>\n",
       "      <td>100.000000</td>\n",
       "    </tr>\n",
       "  </tbody>\n",
       "</table>\n",
       "</div>"
      ],
      "text/plain": [
       "       Number of Units  Manufacturing Cost\n",
       "count      1000.000000         1000.000000\n",
       "mean          4.472799           40.052999\n",
       "std           1.336241           10.595322\n",
       "min           1.000000           20.000000\n",
       "25%           3.594214           32.912036\n",
       "50%           4.435958           38.345781\n",
       "75%           5.324780           44.531822\n",
       "max          10.000000          100.000000"
      ]
     },
     "execution_count": 4,
     "metadata": {},
     "output_type": "execute_result"
    }
   ],
   "source": [
    "#Descrição estatistica\n",
    "df.describe()"
   ]
  },
  {
   "cell_type": "code",
   "execution_count": 5,
   "id": "92f3d35e",
   "metadata": {},
   "outputs": [
    {
     "data": {
      "text/html": [
       "<div>\n",
       "<style scoped>\n",
       "    .dataframe tbody tr th:only-of-type {\n",
       "        vertical-align: middle;\n",
       "    }\n",
       "\n",
       "    .dataframe tbody tr th {\n",
       "        vertical-align: top;\n",
       "    }\n",
       "\n",
       "    .dataframe thead th {\n",
       "        text-align: right;\n",
       "    }\n",
       "</style>\n",
       "<table border=\"1\" class=\"dataframe\">\n",
       "  <thead>\n",
       "    <tr style=\"text-align: right;\">\n",
       "      <th></th>\n",
       "      <th>Number of Units</th>\n",
       "      <th>Manufacturing Cost</th>\n",
       "    </tr>\n",
       "  </thead>\n",
       "  <tbody>\n",
       "    <tr>\n",
       "      <th>Number of Units</th>\n",
       "      <td>1.000000</td>\n",
       "      <td>-0.760905</td>\n",
       "    </tr>\n",
       "    <tr>\n",
       "      <th>Manufacturing Cost</th>\n",
       "      <td>-0.760905</td>\n",
       "      <td>1.000000</td>\n",
       "    </tr>\n",
       "  </tbody>\n",
       "</table>\n",
       "</div>"
      ],
      "text/plain": [
       "                    Number of Units  Manufacturing Cost\n",
       "Number of Units            1.000000           -0.760905\n",
       "Manufacturing Cost        -0.760905            1.000000"
      ]
     },
     "execution_count": 5,
     "metadata": {},
     "output_type": "execute_result"
    }
   ],
   "source": [
    "#Correlação entre as variaveis\n",
    "df.corr()"
   ]
  },
  {
   "cell_type": "code",
   "execution_count": 6,
   "id": "59334740",
   "metadata": {},
   "outputs": [],
   "source": [
    "#Definindo as cordenadas\n",
    "x = df.iloc[:, 0].values\n",
    "y = df.iloc[:, 1].values\n",
    "\n",
    "x = x.reshape(-1,1)\n"
   ]
  },
  {
   "cell_type": "code",
   "execution_count": 21,
   "id": "352be5bf",
   "metadata": {
    "scrolled": false
   },
   "outputs": [
    {
     "data": {
      "text/html": [
       "<style>#sk-container-id-2 {color: black;background-color: white;}#sk-container-id-2 pre{padding: 0;}#sk-container-id-2 div.sk-toggleable {background-color: white;}#sk-container-id-2 label.sk-toggleable__label {cursor: pointer;display: block;width: 100%;margin-bottom: 0;padding: 0.3em;box-sizing: border-box;text-align: center;}#sk-container-id-2 label.sk-toggleable__label-arrow:before {content: \"▸\";float: left;margin-right: 0.25em;color: #696969;}#sk-container-id-2 label.sk-toggleable__label-arrow:hover:before {color: black;}#sk-container-id-2 div.sk-estimator:hover label.sk-toggleable__label-arrow:before {color: black;}#sk-container-id-2 div.sk-toggleable__content {max-height: 0;max-width: 0;overflow: hidden;text-align: left;background-color: #f0f8ff;}#sk-container-id-2 div.sk-toggleable__content pre {margin: 0.2em;color: black;border-radius: 0.25em;background-color: #f0f8ff;}#sk-container-id-2 input.sk-toggleable__control:checked~div.sk-toggleable__content {max-height: 200px;max-width: 100%;overflow: auto;}#sk-container-id-2 input.sk-toggleable__control:checked~label.sk-toggleable__label-arrow:before {content: \"▾\";}#sk-container-id-2 div.sk-estimator input.sk-toggleable__control:checked~label.sk-toggleable__label {background-color: #d4ebff;}#sk-container-id-2 div.sk-label input.sk-toggleable__control:checked~label.sk-toggleable__label {background-color: #d4ebff;}#sk-container-id-2 input.sk-hidden--visually {border: 0;clip: rect(1px 1px 1px 1px);clip: rect(1px, 1px, 1px, 1px);height: 1px;margin: -1px;overflow: hidden;padding: 0;position: absolute;width: 1px;}#sk-container-id-2 div.sk-estimator {font-family: monospace;background-color: #f0f8ff;border: 1px dotted black;border-radius: 0.25em;box-sizing: border-box;margin-bottom: 0.5em;}#sk-container-id-2 div.sk-estimator:hover {background-color: #d4ebff;}#sk-container-id-2 div.sk-parallel-item::after {content: \"\";width: 100%;border-bottom: 1px solid gray;flex-grow: 1;}#sk-container-id-2 div.sk-label:hover label.sk-toggleable__label {background-color: #d4ebff;}#sk-container-id-2 div.sk-serial::before {content: \"\";position: absolute;border-left: 1px solid gray;box-sizing: border-box;top: 0;bottom: 0;left: 50%;z-index: 0;}#sk-container-id-2 div.sk-serial {display: flex;flex-direction: column;align-items: center;background-color: white;padding-right: 0.2em;padding-left: 0.2em;position: relative;}#sk-container-id-2 div.sk-item {position: relative;z-index: 1;}#sk-container-id-2 div.sk-parallel {display: flex;align-items: stretch;justify-content: center;background-color: white;position: relative;}#sk-container-id-2 div.sk-item::before, #sk-container-id-2 div.sk-parallel-item::before {content: \"\";position: absolute;border-left: 1px solid gray;box-sizing: border-box;top: 0;bottom: 0;left: 50%;z-index: -1;}#sk-container-id-2 div.sk-parallel-item {display: flex;flex-direction: column;z-index: 1;position: relative;background-color: white;}#sk-container-id-2 div.sk-parallel-item:first-child::after {align-self: flex-end;width: 50%;}#sk-container-id-2 div.sk-parallel-item:last-child::after {align-self: flex-start;width: 50%;}#sk-container-id-2 div.sk-parallel-item:only-child::after {width: 0;}#sk-container-id-2 div.sk-dashed-wrapped {border: 1px dashed gray;margin: 0 0.4em 0.5em 0.4em;box-sizing: border-box;padding-bottom: 0.4em;background-color: white;}#sk-container-id-2 div.sk-label label {font-family: monospace;font-weight: bold;display: inline-block;line-height: 1.2em;}#sk-container-id-2 div.sk-label-container {text-align: center;}#sk-container-id-2 div.sk-container {/* jupyter's `normalize.less` sets `[hidden] { display: none; }` but bootstrap.min.css set `[hidden] { display: none !important; }` so we also need the `!important` here to be able to override the default hidden behavior on the sphinx rendered scikit-learn.org. See: https://github.com/scikit-learn/scikit-learn/issues/21755 */display: inline-block !important;position: relative;}#sk-container-id-2 div.sk-text-repr-fallback {display: none;}</style><div id=\"sk-container-id-2\" class=\"sk-top-container\"><div class=\"sk-text-repr-fallback\"><pre>PoissonRegressor()</pre><b>In a Jupyter environment, please rerun this cell to show the HTML representation or trust the notebook. <br />On GitHub, the HTML representation is unable to render, please try loading this page with nbviewer.org.</b></div><div class=\"sk-container\" hidden><div class=\"sk-item\"><div class=\"sk-estimator sk-toggleable\"><input class=\"sk-toggleable__control sk-hidden--visually\" id=\"sk-estimator-id-2\" type=\"checkbox\" checked><label for=\"sk-estimator-id-2\" class=\"sk-toggleable__label sk-toggleable__label-arrow\">PoissonRegressor</label><div class=\"sk-toggleable__content\"><pre>PoissonRegressor()</pre></div></div></div></div></div>"
      ],
      "text/plain": [
       "PoissonRegressor()"
      ]
     },
     "execution_count": 21,
     "metadata": {},
     "output_type": "execute_result"
    }
   ],
   "source": [
    "regressao = linear_model.PoissonRegressor()\n",
    "regressao.fit(x, y)"
   ]
  },
  {
   "cell_type": "code",
   "execution_count": 22,
   "id": "87182d1d",
   "metadata": {},
   "outputs": [
    {
     "data": {
      "text/plain": [
       "[<matplotlib.lines.Line2D at 0x1afeb049390>]"
      ]
     },
     "execution_count": 22,
     "metadata": {},
     "output_type": "execute_result"
    },
    {
     "data": {
      "image/png": "[encoded data removed]",
      "text/plain": [
       "<Figure size 640x480 with 1 Axes>"
      ]
     },
     "metadata": {},
     "output_type": "display_data"
    }
   ],
   "source": [
    "#Plotando\n",
    "plt.scatter(x,y)\n",
    "plt.title(\"Manufacturing prediction\")\n",
    "plt.xlabel(\"Number of units sold\")\n",
    "plt.ylabel(\"Manufacturing cost\")\n",
    "plt.plot(x, regressao.predict(x), color = 'green')"
   ]
  },
  {
   "cell_type": "code",
   "execution_count": 36,
   "id": "4eaed179",
   "metadata": {
    "scrolled": false
   },
   "outputs": [
    {
     "name": "stdout",
     "output_type": "stream",
     "text": [
      "[66.35953661 64.51956806 64.46589357 64.33666572 63.42882164 63.34581141\n",
      " 63.04056546 62.66373226 62.27692946 61.7710583  61.14898599 60.8382211\n",
      " 60.41924629 60.31258383 60.12422498 59.73360568 59.65767688 59.34295498\n",
      " 59.15534316 59.0940636  59.0023074  58.93935478 58.7814248  58.65866562\n",
      " 58.59332878 58.5242033  58.51261919 58.4200818  58.39390143 58.22300036\n",
      " 58.14456834 57.95512236 57.54218729 57.15427597 57.11858404 57.00728479\n",
      " 56.59926233 56.49151669 56.39837208 56.14793113 56.07985006 56.03501062\n",
      " 55.83780986 55.75614358 55.5901066  55.43740186 55.26349229 55.19225794\n",
      " 55.13776761 54.87356664 54.80159589 54.47236627 54.42935283 54.35653867\n",
      " 54.25563522 54.19530268 54.18962994 54.06863008 54.03661904 53.99610596\n",
      " 53.8637289  53.74286068 53.57711109 53.05768872 52.89194004 52.87365677\n",
      " 52.75666278 52.73367544 52.57315408 52.53934086 52.3772034  52.36989703\n",
      " 52.29474165 52.27945035 52.23325338 52.16926472 52.0925613  52.0716719\n",
      " 51.92610165 51.90214343 51.73623207 51.71120667 51.58545652 51.53522067\n",
      " 51.52478181 51.44815159 51.3833154  51.35594077 51.28618773 51.21062777\n",
      " 51.20254349 51.08754332 51.00081193 50.88392638 50.8597699  50.84121983\n",
      " 50.84067093 50.83091517 50.80800705 50.78946868 50.78506508 50.66933965\n",
      " 50.59506694 50.54589063 50.41183868 50.29715827 50.28362789 50.23872105\n",
      " 50.07833506 50.04416943 50.04029625 50.0331853  50.01653517 50.00028581\n",
      " 49.96033587 49.94280366 49.93840152 49.9265148  49.80181576 49.69944552\n",
      " 49.52728136 49.52375182 49.46730242 49.4360811  49.36271439 49.31455762\n",
      " 49.21945938 49.08755243 49.05689386 49.0007487  48.99301366 48.83666692\n",
      " 48.82503201 48.79825083 48.75412185 48.67634249 48.67598624 48.64994895\n",
      " 48.64063411 48.63075726 48.59368597 48.58239098 48.57347528 48.49403927\n",
      " 48.48859608 48.39133836 48.38559788 48.37813988 48.37518119 48.36990635\n",
      " 48.3347316  48.29403377 48.26639855 48.25801846 48.21697646 48.18084158\n",
      " 48.16012514 48.1256492  48.12016662 48.09263473 48.07221391 48.06328533\n",
      " 48.0479857  48.04356286 47.79593166 47.7608335  47.75577595 47.74067187\n",
      " 47.72372907 47.70674033 47.70659338 47.67591245 47.67399922 47.54805801\n",
      " 47.50653842 47.50047869 47.47599896 47.42847328 47.40741188 47.40671328\n",
      " 47.37107615 47.33466342 47.26241208 47.2355074  47.19246683 47.12288372\n",
      " 47.08757666 47.05721602 47.02655592 47.01998439 47.00624749 46.95674728\n",
      " 46.95619628 46.92665796 46.90743314 46.86088358 46.80017534 46.68386165\n",
      " 46.67393298 46.6352367  46.62097924 46.61053156 46.59417603 46.57998869\n",
      " 46.52967104 46.46059453 46.44526577 46.43170886 46.42781899 46.38489535\n",
      " 46.36505206 46.36427741 46.36134106 46.31821547 46.28259723 46.26477759\n",
      " 46.23986837 46.14524696 46.12348588 46.11115975 46.108828   46.09413159\n",
      " 46.07078101 46.06990543 46.04706859 46.03499563 45.98016832 45.97944902\n",
      " 45.93729437 45.93046504 45.83604554 45.64706993 45.62718529 45.61518026\n",
      " 45.60881211 45.54990791 45.48463529 45.37236504 45.27698461 45.21803365\n",
      " 45.18619291 45.16553565 45.11413146 45.11118582 45.07522762 44.97327969\n",
      " 44.95439329 44.95070319 44.9269801  44.84036027 44.82720272 44.82023264\n",
      " 44.7559188  44.74073228 44.73696417 44.69250866 44.59735329 44.58755529\n",
      " 44.55301301 44.55019095 44.53497965 44.50596871 44.44123512 44.41469792\n",
      " 44.37506528 44.37461998 44.33737304 44.33477774 44.33193353 44.29873882\n",
      " 44.25013841 44.22056073 44.19599673 44.16956554 44.16833878 44.16400563\n",
      " 44.15697494 44.1379597  44.119866   44.08594692 44.02503002 44.01148168\n",
      " 43.97528295 43.96947675 43.9413714  43.89039994 43.86728492 43.82884515\n",
      " 43.81618356 43.80766719 43.80072021 43.78316169 43.77540189 43.77292097\n",
      " 43.74282915 43.71668959 43.70488071 43.69005449 43.65693562 43.611064\n",
      " 43.55619519 43.55071448 43.51344245 43.50981758 43.44976104 43.37064149\n",
      " 43.33806741 43.30792648 43.25187101 43.25097243 43.20536738 43.18594522\n",
      " 43.15400404 43.14497933 43.13586918 43.05088129 43.03093295 43.00277625\n",
      " 42.99654362 42.97392607 42.95323693 42.94653291 42.92920397 42.89609438\n",
      " 42.88551914 42.87162381 42.81707204 42.73813982 42.72984008 42.71700461\n",
      " 42.66996691 42.66258577 42.63797411 42.62232408 42.59593258 42.57139034\n",
      " 42.55399939 42.54413011 42.53836629 42.53286806 42.51232478 42.50426355\n",
      " 42.39182593 42.38055897 42.38054998 42.35934222 42.29802227 42.2782791\n",
      " 42.27627071 42.25630904 42.22003505 42.19395438 42.17888553 42.16706683\n",
      " 42.14278377 42.13498296 42.11465577 42.09468489 42.02095092 41.99716943\n",
      " 41.99442841 41.98867039 41.97781115 41.97484188 41.97423346 41.92849654\n",
      " 41.90885612 41.89352771 41.83542082 41.83427777 41.79220901 41.764169\n",
      " 41.72327091 41.68703485 41.67335766 41.67280228 41.66762271 41.61905197\n",
      " 41.61232393 41.61194222 41.59274942 41.58578298 41.56735391 41.55094976\n",
      " 41.53697374 41.53335011 41.50397925 41.49171937 41.46965941 41.42932282\n",
      " 41.42710755 41.42598464 41.41864516 41.41702643 41.4077916  41.39749114\n",
      " 41.37845812 41.36198697 41.36186228 41.361427   41.33425539 41.32943485\n",
      " 41.27204786 41.26569096 41.19353957 41.15890325 41.10223645 41.09821362\n",
      " 41.08220949 41.06221962 41.03940782 41.01681545 41.01614648 41.01436813\n",
      " 40.99266394 40.94869174 40.94108217 40.91973329 40.91957495 40.90341076\n",
      " 40.89706499 40.87995471 40.86722439 40.83606375 40.82039882 40.81811272\n",
      " 40.77022962 40.7690874  40.75514533 40.75234605 40.74215564 40.72594547\n",
      " 40.72508999 40.70409154 40.68596213 40.6474506  40.63618536 40.61326135\n",
      " 40.61077931 40.59929295 40.59624035 40.59136523 40.57293841 40.56542322\n",
      " 40.54447765 40.52383362 40.49671799 40.48978225 40.451886   40.43324266\n",
      " 40.39982103 40.38800308 40.38455073 40.33856544 40.33759101 40.33143691\n",
      " 40.28571928 40.28110523 40.28078072 40.2733695  40.27066592 40.25904635\n",
      " 40.25507894 40.23590689 40.20734089 40.1858963  40.18143523 40.16560986\n",
      " 40.15155586 40.14720996 40.13676009 40.12066537 40.10434205 40.0969675\n",
      " 40.08586504 40.06551124 40.05388077 40.04800219 40.0363083  39.98263889\n",
      " 39.96404673 39.95200903 39.92670995 39.92152107 39.7832294  39.73603428\n",
      " 39.69479851 39.69167733 39.63592769 39.61384903 39.60688468 39.59995269\n",
      " 39.52672147 39.51482434 39.5113104  39.50581298 39.49385309 39.48939848\n",
      " 39.48679795 39.48220116 39.4649904  39.4612792  39.43648311 39.40521649\n",
      " 39.39316629 39.36328495 39.33332168 39.32082651 39.29394255 39.27816201\n",
      " 39.25377363 39.23394013 39.2243835  39.18906296 39.17291601 39.15059682\n",
      " 39.10537036 39.0382229  39.03670077 39.02836071 39.01683008 38.98295237\n",
      " 38.96286269 38.94881285 38.93832725 38.93800495 38.93194938 38.89579853\n",
      " 38.89381609 38.87847286 38.87363568 38.86011301 38.84995715 38.83435304\n",
      " 38.82847935 38.80807189 38.80143454 38.80019973 38.71319084 38.71272931\n",
      " 38.64430872 38.62539872 38.62484933 38.60509431 38.59876925 38.5552298\n",
      " 38.55219496 38.5519882  38.51869247 38.50541388 38.48269003 38.46629626\n",
      " 38.4336419  38.43105589 38.42383826 38.41729101 38.41448481 38.4088361\n",
      " 38.38930379 38.36512635 38.36232987 38.35597243 38.30885008 38.25619037\n",
      " 38.25496153 38.24341662 38.23656936 38.21703456 38.19901615 38.19578451\n",
      " 38.15402948 38.13880541 38.10859085 38.02860204 38.00738901 37.9972481\n",
      " 37.96866929 37.95604924 37.94341964 37.91506887 37.90226155 37.83814804\n",
      " 37.83277835 37.81767198 37.807503   37.8069192  37.78709513 37.75521351\n",
      " 37.73617333 37.7321001  37.72495704 37.71457417 37.65478981 37.49631999\n",
      " 37.49373359 37.46440929 37.44769431 37.42933364 37.40967954 37.39197418\n",
      " 37.39016807 37.37442979 37.37050507 37.31478123 37.29616749 37.25796832\n",
      " 37.24769694 37.22555868 37.1567591  37.07674535 37.04761056 37.03652654\n",
      " 37.02584606 36.99620875 36.97645954 36.95095344 36.92598391 36.92403857\n",
      " 36.91340603 36.83949688 36.78193375 36.75471239 36.69731175 36.69333573\n",
      " 36.68223283 36.66762346 36.65879303 36.60887056 36.60654391 36.58371885\n",
      " 36.57926886 36.54772685 36.54162361 36.53067933 36.51777306 36.517085\n",
      " 36.49082473 36.44639794 36.41246936 36.41221403 36.40442911 36.37940061\n",
      " 36.37171059 36.36277    36.33978025 36.33862922 36.31692759 36.31384457\n",
      " 36.28645684 36.28113203 36.2701445  36.23050626 36.1901241  36.17050363\n",
      " 36.13924474 36.13434357 36.13187824 36.1274802  36.08936036 36.08834686\n",
      " 36.07980414 36.06816572 36.06046059 36.0441082  36.02781849 36.01567057\n",
      " 36.0055769  35.99730907 35.99589154 35.97568133 35.97510295 35.94460719\n",
      " 35.9417019  35.93459014 35.91097238 35.89966181 35.87241073 35.87153553\n",
      " 35.82419538 35.81727776 35.79211954 35.7882905  35.77298296 35.75919202\n",
      " 35.74993772 35.7479002  35.7054944  35.70316835 35.70314145 35.69647432\n",
      " 35.69035679 35.68023248 35.64458951 35.64167515 35.63668236 35.63378973\n",
      " 35.60576285 35.58575057 35.5822948  35.5055219  35.48933816 35.46447022\n",
      " 35.31068985 35.27395285 35.25114191 35.24195567 35.20273281 35.19949172\n",
      " 35.19174728 35.17875147 35.17511303 35.16631575 35.16097566 35.1474246\n",
      " 35.14018839 35.12264838 35.10950548 35.10125082 35.06700627 35.05911659\n",
      " 35.02765787 35.02703258 35.01165334 34.98922851 34.91010075 34.88999304\n",
      " 34.88554595 34.8624502  34.84451819 34.82806031 34.81626617 34.81320127\n",
      " 34.79871991 34.79025847 34.78675755 34.72473357 34.72035024 34.7201003\n",
      " 34.70323483 34.69518682 34.67810127 34.62550938 34.6210922  34.59064465\n",
      " 34.58141386 34.56232678 34.55646295 34.53083627 34.51853584 34.51062384\n",
      " 34.50933345 34.50020223 34.4644567  34.46199843 34.45025464 34.43532843\n",
      " 34.39054928 34.38227665 34.30715801 34.26197544 34.24926166 34.24115888\n",
      " 34.22800057 34.21662842 34.1741697  34.06434565 34.01869791 34.01108791\n",
      " 33.98446816 33.97136855 33.9159557  33.89104938 33.87852474 33.87268309\n",
      " 33.85766158 33.84162382 33.80804075 33.80074096 33.80071223 33.79960348\n",
      " 33.79243476 33.76121779 33.74467895 33.73584983 33.72337082 33.69309068\n",
      " 33.6888775  33.68318098 33.65420287 33.60317701 33.55392033 33.53884975\n",
      " 33.53618719 33.53530477 33.51345919 33.45323307 33.42430383 33.42388391\n",
      " 33.40913053 33.39340991 33.3808705  33.35997485 33.33594453 33.33059713\n",
      " 33.32893243 33.31882199 33.29614495 33.28482109 33.27559959 33.23950863\n",
      " 33.23099441 33.21586136 33.19499392 33.17555618 33.17246894 33.14934836\n",
      " 33.14579067 33.10812737 33.01339179 33.01178092 33.00163089 32.97509826\n",
      " 32.97060211 32.96610039 32.96241216 32.93868328 32.90720858 32.90502145\n",
      " 32.89781518 32.85328752 32.8460417  32.82190678 32.82133314 32.81515296\n",
      " 32.79590266 32.78246412 32.77936094 32.68256347 32.64273127 32.63457812\n",
      " 32.60278614 32.54600915 32.54348894 32.53729185 32.51485806 32.42962039\n",
      " 32.37270207 32.36729854 32.33170789 32.23651601 32.2104172  32.19586678\n",
      " 32.18284461 32.12501855 32.09883655 32.04980177 32.04772477 31.98492449\n",
      " 31.95505067 31.86111898 31.85146388 31.83965005 31.79576818 31.78870287\n",
      " 31.67868201 31.67143745 31.6285318  31.61844285 31.58766617 31.56298123\n",
      " 31.55887555 31.53820541 31.50871118 31.49027927 31.43180076 31.40221218\n",
      " 31.32628269 31.31074231 31.25428833 31.2351174  31.1931755  31.17770402\n",
      " 31.16768595 31.1080007  31.09860888 31.08058033 31.06192722 31.05336871\n",
      " 31.01221742 30.9607426  30.88546331 30.87152975 30.85663437 30.81925105\n",
      " 30.78215511 30.71316429 30.70792302 30.69885119 30.68988537 30.63074668\n",
      " 30.60932807 30.57868615 30.56227897 30.43532458 30.4110763  30.33667534\n",
      " 30.26207538 30.25032877 30.24888522 30.16287871 30.10453478 30.08286232\n",
      " 30.06743047 30.00469121 29.99263831 29.93028205 29.72525618 29.72373587\n",
      " 29.58026581 29.53509616 29.52452554 29.43701791 29.39819268 29.39336798\n",
      " 29.38765035 29.34038492 29.3144849  29.30171995 29.28912986 29.19428965\n",
      " 29.04090675 28.99539772 28.94468778 28.94088174 28.77484621 28.74891245\n",
      " 28.57418954 28.50662291 28.49602001 28.49091721 28.47938941 28.45522289\n",
      " 28.36674089 28.31611633 28.27290368 28.10071907 28.09900722 28.06560413\n",
      " 27.95760741 27.94836983 27.91489987 27.74889666 27.63476976 27.4512689\n",
      " 27.43288855 27.39591772 27.3926815  27.33763486 27.24721719 27.11445939\n",
      " 27.04975841 27.024384   27.00841314 26.93299785 26.90619751 26.88248325\n",
      " 26.7161383  26.55163105 26.52450216 26.51192773 26.46812718 26.35897197\n",
      " 26.20462473 26.11075658 26.06033249 26.02747557 25.81621818 25.55785023\n",
      " 25.4780961  25.26159781 25.1714416  24.82516431 24.76884937 24.57108262\n",
      " 24.52337043 24.47328141 24.44998646 24.35542386 24.09199971 23.58071623\n",
      " 23.37986382 23.28275627 23.12017419 23.03478702 22.72825825 22.68577255\n",
      " 20.59349026 20.46581468 20.10756453 17.02100103]\n"
     ]
    }
   ],
   "source": [
    "#Exemplo - previsao dos custos de produção pela quantidade de unidades vendidas \n",
    "\n",
    "previsao = regressao.predict(x)\n",
    "\n",
    "print(previsao)"
   ]
  },
  {
   "cell_type": "code",
   "execution_count": 37,
   "id": "569a7ec2",
   "metadata": {},
   "outputs": [
    {
     "name": "stdout",
     "output_type": "stream",
     "text": [
      "0.6427364391293673\n"
     ]
    }
   ],
   "source": [
    "#Precisao da regressao \n",
    "\n",
    "score = regressao.score(x,y)\n",
    "\n",
    "print(score)"
   ]
  },
  {
   "cell_type": "code",
   "execution_count": null,
   "id": "b5ef3b29",
   "metadata": {},
   "outputs": [],
   "source": []
  }
 ],
 "metadata": {
  "kernelspec": {
   "display_name": "Python 3 (ipykernel)",
   "language": "python",
   "name": "python3"
  },
  "language_info": {
   "codemirror_mode": {
    "name": "ipython",
    "version": 3
   },
   "file_extension": ".py",
   "mimetype": "text/x-python",
   "name": "python",
   "nbconvert_exporter": "python",
   "pygments_lexer": "ipython3",
   "version": "3.10.9"
  }
 },
 "nbformat": 4,
 "nbformat_minor": 5
}
